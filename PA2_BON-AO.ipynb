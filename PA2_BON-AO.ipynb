{
 "cells": [
  {
   "cell_type": "markdown",
   "id": "488d7d73-db5f-4338-8d1f-b7dda37b7535",
   "metadata": {},
   "source": [
    "# Programming Assignment 2 NUMERICAL PYTHON (NUMPY)"
   ]
  },
  {
   "cell_type": "markdown",
   "id": "b0523cac-295f-434a-b766-b9ee2a9047d8",
   "metadata": {},
   "source": [
    "### Problem 1 Normalization Problem"
   ]
  },
  {
   "cell_type": "markdown",
   "id": "bdeee042-4f30-4319-8ae4-727a622cc201",
   "metadata": {},
   "source": [
    "#### Normalization is one of the most basic preprocessing techniques in data analytics. \n",
    "#### This involves centering and scaling process. Centering means subtracting the data from the \n",
    "#### mean and scaling means dividing with its standard deviation. Mathematically, normalization can be \n",
    "#### expressed as: \n",
    "\n",
    "     𝑍 =  (𝑋 − 𝑥̅)/𝜎\n",
    "\n",
    "#### In Python, element-wise mean and element-wise standard deviation can be obtained by using .mean() and .std() calls. \n",
    "#### In this problem, create a random 5 x 5 ndarray and store it to variable X. Normalize X. Save your normalized \n",
    "#### ndarray as X_normalized.npy"
   ]
  },
  {
   "cell_type": "code",
   "execution_count": 3,
   "id": "132defb0-1144-4315-9efa-5f0ce392b3b9",
   "metadata": {},
   "outputs": [
    {
     "name": "stdout",
     "output_type": "stream",
     "text": [
      "[[ 1.48293407  0.54563574  0.40173804 -0.40444156  0.53172264]\n",
      " [-1.33656643  1.39518146  1.28356454  0.22754209 -0.59228945]\n",
      " [ 0.77143367 -0.85877205 -0.45229671 -1.24569123 -0.42825375]\n",
      " [ 0.33605035  1.42142444 -1.03499808  1.40938648 -1.61559311]\n",
      " [ 1.41749808 -0.5516239  -1.03775693 -0.47167949 -1.1941489 ]]\n"
     ]
    }
   ],
   "source": [
    "#Start\n",
    "\n",
    "#Import numerical python library\n",
    "import numpy as np\n",
    "\n",
    "#Store random 5x5 array in X\n",
    "X = np.array(np.random.random((5,5)))\n",
    "\n",
    "#Store and Calculate mean and standard deviation \n",
    "mean = X.mean()\n",
    "std_dev = X.std()\n",
    "\n",
    "#Calculate normalized array\n",
    "Z_X = (X - mean)/std_dev\n",
    "\n",
    "#Save normalized array to 'X_normalized.npy'\n",
    "np.save('X_normalized.npy', Z_X)\n",
    "print(Z_X)\n",
    "#end"
   ]
  },
  {
   "cell_type": "markdown",
   "id": "2c2293c9-49d2-4c50-8d94-454a02859943",
   "metadata": {},
   "source": [
    "### Problem 2: Divisible by 3\n",
    "#### Create the following 10 x 10 ndarray\n",
    "#### which are the squares of the first 100 positive integers. \r",
    "#### From this ndarray, determine all the elements that are divisible by 3. Save the result as div_by_3.npy"
   ]
  },
  {
   "cell_type": "code",
   "execution_count": 19,
   "id": "3f593620-9a9f-4a91-b4c1-47d8e1c1de98",
   "metadata": {},
   "outputs": [
    {
     "name": "stdout",
     "output_type": "stream",
     "text": [
      "[  1   2   3   4   5   6   7   8   9  10  11  12  13  14  15  16  17  18\n",
      "  19  20  21  22  23  24  25  26  27  28  29  30  31  32  33  34  35  36\n",
      "  37  38  39  40  41  42  43  44  45  46  47  48  49  50  51  52  53  54\n",
      "  55  56  57  58  59  60  61  62  63  64  65  66  67  68  69  70  71  72\n",
      "  73  74  75  76  77  78  79  80  81  82  83  84  85  86  87  88  89  90\n",
      "  91  92  93  94  95  96  97  98  99 100]\n",
      "[[  1   2   3   4   5   6   7   8   9  10]\n",
      " [ 11  12  13  14  15  16  17  18  19  20]\n",
      " [ 21  22  23  24  25  26  27  28  29  30]\n",
      " [ 31  32  33  34  35  36  37  38  39  40]\n",
      " [ 41  42  43  44  45  46  47  48  49  50]\n",
      " [ 51  52  53  54  55  56  57  58  59  60]\n",
      " [ 61  62  63  64  65  66  67  68  69  70]\n",
      " [ 71  72  73  74  75  76  77  78  79  80]\n",
      " [ 81  82  83  84  85  86  87  88  89  90]\n",
      " [ 91  92  93  94  95  96  97  98  99 100]]\n",
      "[   9   36   81  144  225  324  441  576  729  900 1089 1296 1521 1764\n",
      " 2025 2304 2601 2916 3249 3600 3969 4356 4761 5184 5625 6084 6561 7056\n",
      " 7569 8100 8649 9216 9801]\n"
     ]
    }
   ],
   "source": [
    "#start\n",
    "\n",
    "#Import numerical python library\n",
    "import numpy as np\n",
    "\n",
    "#Create array of all first 100 positive integers\n",
    "A = np.array(np.arange(1,101,1))\n",
    "print(A)\n",
    "#Resize array to be 10 x 10\n",
    "A.resize(10,10)\n",
    "print(A)\n",
    "#Stores a new array that squared every element by itself\n",
    "Squared_A = np.square(A)\n",
    "\n",
    "#Stores every element from Squared_A that is divisible by 3\n",
    "Div_by_3 = Squared_A[A%3==0]\n",
    "print(Div_by_3)\n",
    "#Save array with elements divisble by 3 to 'div_by_3.npy'\n",
    "np.save('div_by_3.npy',Div_by_3)\n",
    "\n",
    "#end"
   ]
  },
  {
   "cell_type": "code",
   "execution_count": null,
   "id": "84be47a3-6041-438d-be6e-35c4b2500296",
   "metadata": {},
   "outputs": [],
   "source": []
  }
 ],
 "metadata": {
  "kernelspec": {
   "display_name": "Python 3 (ipykernel)",
   "language": "python",
   "name": "python3"
  },
  "language_info": {
   "codemirror_mode": {
    "name": "ipython",
    "version": 3
   },
   "file_extension": ".py",
   "mimetype": "text/x-python",
   "name": "python",
   "nbconvert_exporter": "python",
   "pygments_lexer": "ipython3",
   "version": "3.12.4"
  }
 },
 "nbformat": 4,
 "nbformat_minor": 5
}
